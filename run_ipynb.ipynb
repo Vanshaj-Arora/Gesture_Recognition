{
 "cells": [
  {
   "cell_type": "code",
   "execution_count": 1,
   "metadata": {},
   "outputs": [],
   "source": [
    "import cv2\n",
    "from src.hand_tracker_nms import HandTrackerNMS\n",
    "import src.extra\n",
    "import joblib\n",
    "\n",
    "\n",
    "WINDOW = \"Hand Tracking\"\n",
    "PALM_MODEL_PATH = \"models/palm_detection_without_custom_op.tflite\"\n",
    "LANDMARK_MODEL_PATH = \"models/hand_landmark.tflite\"\n",
    "ANCHORS_PATH = \"models/anchors.csv\"\n",
    "\n",
    "connections = src.extra.connections\n",
    "int_to_char = src.extra.classes\n",
    "\n",
    "detector = HandTrackerNMS(\n",
    "    PALM_MODEL_PATH,\n",
    "    LANDMARK_MODEL_PATH,\n",
    "    ANCHORS_PATH,\n",
    "    box_shift=0.2,\n",
    "    box_enlarge=1.3\n",
    ")\n",
    "\n",
    "gesture_clf = joblib.load(r'models\\\\gesture_clf.pkl')"
   ]
  },
  {
   "cell_type": "code",
   "execution_count": 3,
   "metadata": {
    "scrolled": true
   },
   "outputs": [],
   "source": [
    "image_orig = cv2.imread(\"input/my_B.jpg\")\n",
    "image = cv2.cvtColor(image_orig, cv2.COLOR_BGR2RGB)\n",
    "points, bbox, joints = detector(image)\n",
    "\n",
    "if points is not None:\n",
    "    src.extra.draw_points(points, image_orig)\n",
    "    pred_sign = src.extra.predict_sign(joints, gesture_clf, int_to_char)\n",
    "    \n",
    "    src.extra.draw_sign(pred_sign, image_orig, (50, 780))\n",
    "    \n",
    "cv2.imshow(WINDOW, image_orig)\n",
    "\n",
    "cv2.waitKey(0)\n",
    "cv2.destroyAllWindows()"
   ]
  },
  {
   "cell_type": "code",
   "execution_count": null,
   "metadata": {},
   "outputs": [],
   "source": []
  }
 ],
 "metadata": {
  "kernelspec": {
   "display_name": "Python 3",
   "language": "python",
   "name": "python3"
  },
  "language_info": {
   "codemirror_mode": {
    "name": "ipython",
    "version": 3
   },
   "file_extension": ".py",
   "mimetype": "text/x-python",
   "name": "python",
   "nbconvert_exporter": "python",
   "pygments_lexer": "ipython3",
   "version": "3.7.4"
  }
 },
 "nbformat": 4,
 "nbformat_minor": 2
}
